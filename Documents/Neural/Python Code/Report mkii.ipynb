{
 "cells": [
  {
   "cell_type": "markdown",
   "metadata": {},
   "source": [
    "# Neural Computation Assignment\n",
    "### Brendan Case - bkc721 - 1801421\n",
    "### Guy Coop - gtc434 - 1447634\n",
    "### Vasileios Mizaridis - vxm716 - 1844216\n",
    "### Priyanka Mohata - pxm374 - 1341274\n",
    "### Liangye Yu - lxy736 - 1810736"
   ]
  },
  {
   "cell_type": "markdown",
   "metadata": {},
   "source": [
    "# Abstract\n",
    "Image Recognition has, in recent history been relatively ”solved” in the sense that algorithms have now been recorded outperforming humans in simple image recogntion tasks. However regional image recognition where the algorithm is tasked with recognizing multiple images inside a whole chaotic scene is still an emerging field. Our team analysed the most promising methods of regional image recognition, and implemented our own solution to a simplified regional recognition task. Our solution was able to locate and classify objects inside an image with a 92% accuracy of locations and a 100% accuracy of classification."
   ]
  },
  {
   "cell_type": "markdown",
   "metadata": {},
   "source": [
    "# 1 Introduction\n",
    "For this project, our team was assigned the task of implementing a regional image recognition system.\n",
    "\n",
    "## 1.1 Data Sets\n",
    "The data set provided was given in the following format:\n",
    "\n",
    "- Data: 400x400 RGB image files in .jpg format\n",
    "\n",
    "- Labels: each image has a corresponding text file that describes the location of each of the predefined objects in the image. This location was given as pairs of integers describing horizontal runs of pixels that form a rectangular bounding box around the object. If the object was not present in the image it was given as [object 1 0] meaning that it had a run length of 0 pixels.\n",
    "\n",
    "### 1.1.1 Training Set: \n",
    "The training set provided contains 14,625 (image, label) pairs that includes image files and label files that describe the objects and bouding boxes. for conducting experiments, this data set should be subdivided into a Training set and a Validation set to measure how parameter changes affect the accuracy of the results.\n",
    "\n",
    "### 1.1.2 Test Set:\n",
    "The test set contained 2500 images that are given to simulate unseen data coming into the system. These images do not have the associated label files, and our task is to produce label files that describe the location and class of objects in each of the test image files.\n",
    "\n",
    "## 1.2 Our Aims\n",
    "Our aims for this project are as follows:\n",
    "\n",
    "- Discover and Analyse currently exisitng method of performing regional image recognition\n",
    "\n",
    "- Produce our own implementation of one of these methods, using any necessary packages or source code segments as necessary.\n",
    "\n",
    "- Conduct experiments to optimize the recognition system in terms of bounding box locations, and object classification.\n",
    "\n",
    "- Produce a set of conclusions about the effectiveness of the various recognition methods, and the optimal parameters of our implementation for the data set provided."
   ]
  },
  {
   "cell_type": "markdown",
   "metadata": {},
   "source": [
    "# 2 Design\n",
    "For this task our Initial instict was to attempt to solve it with a simple feedforward neural network. And whilst this would have been adequate for a simple classification task, we determined it would not provide a good solution to this region bounded classification task. From there we exaimned other possible methods of solving the task. The first sub-method we investigated was using Selective Search to identify regions of interest inside the image. We then expanded this to determine other pre-established algorithms that make use of selective search and how they compare to other similar algorithms.\n",
    "\n",
    "## 2.1 Selective Search\n",
    "Selective Search is an algorithm used for regional image searching. It works by performing image processing to segment an image by multiple factors such as: Colour, Texture, an Brightness, in order to try and seperate multiple object inside an image. once these sections have been seperated. rectangular bounding boxes can be formed around the objects so that they can be passed to an image recognizer network.\n",
    "\n",
    "## 2.2 Regional Convolutional Neural Networks (RCNNs)\n",
    "Given the regional nature of this task, The first option that should be analysed is ”Regional Convultional Neural Networks” and their successors. There are three implementations of this algorithm that will be examined:\n",
    "\n",
    "- R-CNN [GDDM14]\n",
    "\n",
    "- Fast R-CNN [Gir15]\n",
    "\n",
    "- Faster R-CNN [RHGS15]\n",
    "\n",
    "### 2.2.1 R-CNN \n",
    "R-CNN [GDDM14] makes use of selective search to generate the region proposals. it typically produces around 2000 region proposals per image, these regions are then sent forward to the CNN in order to determine if they contain an object in the dataset, and what that object is. Once the objects have been detected in the bounding boxes, regression algorithms are used to tighten the bounding boxes more accurately around the objects.\n",
    "\n",
    "### 2.2.2 Fast R-CNN\n",
    "Fast R-CNN [Gir15] is an update on the original R-CNN technique that was developed in 2015, it acheives approximately a 9x speed-up on the original at train time, and over 200x speed-up at test time. It does this by unifying the training phase of the boudinding boxes, and the object classification algorithm into a single round of training, rather than having to train the two algorithms seperately.\n",
    "It also makes use of Region-of-Interest (RoI) pooling layers. \"RoI max pooling works by reducing the $h*w$ RoI window into an H*W grid of sub-windows of approximate size h/H * w/W and then max-pooling the values in each sub-window into the corresponding output grid cell.\" [Gir15]\n",
    "\n",
    "### 2.2.3 Faster R-CNN\n",
    "Faster R-CNN [RHGS15] is another significat update on the Fast R-CNN technique that acheives another dramatic speedup. This algorithm was designed as part of an attempt at real time regional image recognition, and as such is able to operate in almost real time.\n",
    "Similar to Fast R-CNN it makes use of the RoI pooling layer to create a significant imporvement in performance over traditional R-CNN. Faster R-CNN also introduces a Region Proposal Network (RPN). The RPN shares convolutional features with the detection network. This allows it to provide almost \"cost-free\" region proposals to the system.\n",
    "Fast R-CNN is recorded to be able to operate at approximately 5 frames-per-second (fps) when running on a GPU, meaning that it could be used for real time applications.\n",
    "\n",
    "## 2.3 You Only Look Once (YOLO)\n",
    "\"You Only Look Once\" (YOLO) was named as such because the algorithm centers around only performing a single pass across the image, rather than having to analyse the same data multiple times."
   ]
  },
  {
   "cell_type": "markdown",
   "metadata": {},
   "source": [
    "# 3 Implementation"
   ]
  },
  {
   "cell_type": "markdown",
   "metadata": {},
   "source": [
    "# 4 Experiments"
   ]
  },
  {
   "cell_type": "markdown",
   "metadata": {},
   "source": [
    "# 5 Conclusions"
   ]
  },
  {
   "cell_type": "markdown",
   "metadata": {},
   "source": [
    "# 6 Description of Collaboration\n",
    "### Brendan Case\n",
    "\n",
    "### Guy Coop\n",
    "- Produced data handler python class used by multiple systems to reformat the training data into the required input format for the neural network. And reformat the output from the network back into a format that matches the input.\n",
    "\n",
    "- Lead the writing of the report, and collated it into a Jupyter Notebook.\n",
    "\n",
    "### Vasileios Mizaridis\n",
    "\n",
    "### Priyanka Mohata\n",
    "\n",
    "### Liangye Yu"
   ]
  },
  {
   "cell_type": "markdown",
   "metadata": {},
   "source": [
    "# References\n",
    "\n",
    "[GDDM14] Ross Girshick, Jeff Donahue, Trevor Darrell, and Jitendra Malik. R-cnn for object detection. 2014.\n",
    "\n",
    "[Gir15] Ross Girshick. Fast r-cnn. arXiv:1504.08083, 2015.\n",
    "\n",
    "[Goo17] Google. Tensorflow 1.0, 2017.\n",
    "\n",
    "[RDGF15] Joseph Redmon, Santosh Divvala, Ross Girshick, and Ali Farhadi. You only look once: Unified, real-time object detection. arXiv:1506.02640, 2015.\n",
    "\n",
    "[RF16] Joseph Redmon and Ali Farhadi. Yolo9000: Better, faster, stronger. arXiv preprint arXiv:1612.08242, 2016.\n",
    "\n",
    "[RHGS15] Shaoqing Ren, Kaiming He, Ross Girshick, and Jian Sun. Faster r-cnn: Towards real-time object detection with region proposal networks. arXiv:1506.01497, 2015.\n",
    "\n",
    "[sidt17] scikit-image development team. skimage 0.13.1, 2017."
   ]
  },
  {
   "cell_type": "code",
   "execution_count": null,
   "metadata": {},
   "outputs": [],
   "source": []
  }
 ],
 "metadata": {
  "kernelspec": {
   "display_name": "Python 2",
   "language": "python",
   "name": "python2"
  },
  "language_info": {
   "codemirror_mode": {
    "name": "ipython",
    "version": 2
   },
   "file_extension": ".py",
   "mimetype": "text/x-python",
   "name": "python",
   "nbconvert_exporter": "python",
   "pygments_lexer": "ipython2",
   "version": "2.7.12"
  }
 },
 "nbformat": 4,
 "nbformat_minor": 2
}
